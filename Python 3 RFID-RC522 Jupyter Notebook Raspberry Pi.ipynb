{
 "cells": [
  {
   "cell_type": "code",
   "execution_count": 1,
   "metadata": {},
   "outputs": [
    {
     "name": "stderr",
     "output_type": "stream",
     "text": [
      "/home/pi/solder-ing/solder-ing/pirc522/rfid.py:78: RuntimeWarning: This channel is already in use, continuing anyway.  Use GPIO.setwarnings(False) to disable warnings.\n",
      "  GPIO.setup(pin_rst, GPIO.OUT)\n"
     ]
    }
   ],
   "source": [
    "from pirc522 import RFID\n",
    "import signal\n",
    "import time\n",
    "rdr=RFID()"
   ]
  },
  {
   "cell_type": "code",
   "execution_count": null,
   "metadata": {},
   "outputs": [
    {
     "name": "stdout",
     "output_type": "stream",
     "text": [
      "\n",
      "Detected\n",
      "Card read UID: 249,191,96,131\n",
      "\n",
      "Detected\n",
      "Card read UID: 249,191,96,131\n",
      "\n",
      "Detected\n",
      "Card read UID: 249,191,96,131\n"
     ]
    }
   ],
   "source": [
    "while True:\n",
    "    #Request tag\n",
    "    (error, data) = rdr.request()\n",
    "    if not error:\n",
    "        print (\"\\nDetected\")\n",
    "        (error, uid) = rdr.anticoll()\n",
    "        if not error:\n",
    "            #Print UID\n",
    "            print (\"Card read UID: \"+str(uid[0])+\",\"+str(uid[1])+\",\"+str(uid[2])+\",\"+str(uid[3]))\n",
    "            time.sleep(1)"
   ]
  },
  {
   "cell_type": "code",
   "execution_count": null,
   "metadata": {},
   "outputs": [],
   "source": []
  }
 ],
 "metadata": {
  "kernelspec": {
   "display_name": "solder-ing",
   "language": "python",
   "name": "solder-ing"
  },
  "language_info": {
   "codemirror_mode": {
    "name": "ipython",
    "version": 3
   },
   "file_extension": ".py",
   "mimetype": "text/x-python",
   "name": "python",
   "nbconvert_exporter": "python",
   "pygments_lexer": "ipython3",
   "version": "3.4.2"
  }
 },
 "nbformat": 4,
 "nbformat_minor": 2
}
